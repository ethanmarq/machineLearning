{
 "cells": [
  {
   "cell_type": "code",
   "execution_count": 15,
   "id": "46f4f1be-2ba7-42b6-a404-450a364dd254",
   "metadata": {
    "tags": []
   },
   "outputs": [
    {
     "name": "stdout",
     "output_type": "stream",
     "text": [
      "Keys in the state_dict:\n",
      "odict_keys(['backbone.input_stem.op_list.0.conv.weight', 'backbone.input_stem.op_list.0.norm.weight', 'backbone.input_stem.op_list.0.norm.bias', 'backbone.input_stem.op_list.0.norm.running_mean', 'backbone.input_stem.op_list.0.norm.running_var', 'backbone.input_stem.op_list.0.norm.num_batches_tracked', 'backbone.input_stem.op_list.1.main.depth_conv.conv.weight', 'backbone.input_stem.op_list.1.main.depth_conv.norm.weight', 'backbone.input_stem.op_list.1.main.depth_conv.norm.bias', 'backbone.input_stem.op_list.1.main.depth_conv.norm.running_mean', 'backbone.input_stem.op_list.1.main.depth_conv.norm.running_var', 'backbone.input_stem.op_list.1.main.depth_conv.norm.num_batches_tracked', 'backbone.input_stem.op_list.1.main.point_conv.conv.weight', 'backbone.input_stem.op_list.1.main.point_conv.norm.weight', 'backbone.input_stem.op_list.1.main.point_conv.norm.bias', 'backbone.input_stem.op_list.1.main.point_conv.norm.running_mean', 'backbone.input_stem.op_list.1.main.point_conv.norm.running_var', 'backbone.input_stem.op_list.1.main.point_conv.norm.num_batches_tracked', 'backbone.stages.0.op_list.0.main.inverted_conv.conv.weight', 'backbone.stages.0.op_list.0.main.inverted_conv.norm.weight', 'backbone.stages.0.op_list.0.main.inverted_conv.norm.bias', 'backbone.stages.0.op_list.0.main.inverted_conv.norm.running_mean', 'backbone.stages.0.op_list.0.main.inverted_conv.norm.running_var', 'backbone.stages.0.op_list.0.main.inverted_conv.norm.num_batches_tracked', 'backbone.stages.0.op_list.0.main.depth_conv.conv.weight', 'backbone.stages.0.op_list.0.main.depth_conv.norm.weight', 'backbone.stages.0.op_list.0.main.depth_conv.norm.bias', 'backbone.stages.0.op_list.0.main.depth_conv.norm.running_mean', 'backbone.stages.0.op_list.0.main.depth_conv.norm.running_var', 'backbone.stages.0.op_list.0.main.depth_conv.norm.num_batches_tracked', 'backbone.stages.0.op_list.0.main.point_conv.conv.weight', 'backbone.stages.0.op_list.0.main.point_conv.norm.weight', 'backbone.stages.0.op_list.0.main.point_conv.norm.bias', 'backbone.stages.0.op_list.0.main.point_conv.norm.running_mean', 'backbone.stages.0.op_list.0.main.point_conv.norm.running_var', 'backbone.stages.0.op_list.0.main.point_conv.norm.num_batches_tracked', 'backbone.stages.0.op_list.1.main.inverted_conv.conv.weight', 'backbone.stages.0.op_list.1.main.inverted_conv.norm.weight', 'backbone.stages.0.op_list.1.main.inverted_conv.norm.bias', 'backbone.stages.0.op_list.1.main.inverted_conv.norm.running_mean', 'backbone.stages.0.op_list.1.main.inverted_conv.norm.running_var', 'backbone.stages.0.op_list.1.main.inverted_conv.norm.num_batches_tracked', 'backbone.stages.0.op_list.1.main.depth_conv.conv.weight', 'backbone.stages.0.op_list.1.main.depth_conv.norm.weight', 'backbone.stages.0.op_list.1.main.depth_conv.norm.bias', 'backbone.stages.0.op_list.1.main.depth_conv.norm.running_mean', 'backbone.stages.0.op_list.1.main.depth_conv.norm.running_var', 'backbone.stages.0.op_list.1.main.depth_conv.norm.num_batches_tracked', 'backbone.stages.0.op_list.1.main.point_conv.conv.weight', 'backbone.stages.0.op_list.1.main.point_conv.norm.weight', 'backbone.stages.0.op_list.1.main.point_conv.norm.bias', 'backbone.stages.0.op_list.1.main.point_conv.norm.running_mean', 'backbone.stages.0.op_list.1.main.point_conv.norm.running_var', 'backbone.stages.0.op_list.1.main.point_conv.norm.num_batches_tracked', 'backbone.stages.1.op_list.0.main.inverted_conv.conv.weight', 'backbone.stages.1.op_list.0.main.inverted_conv.norm.weight', 'backbone.stages.1.op_list.0.main.inverted_conv.norm.bias', 'backbone.stages.1.op_list.0.main.inverted_conv.norm.running_mean', 'backbone.stages.1.op_list.0.main.inverted_conv.norm.running_var', 'backbone.stages.1.op_list.0.main.inverted_conv.norm.num_batches_tracked', 'backbone.stages.1.op_list.0.main.depth_conv.conv.weight', 'backbone.stages.1.op_list.0.main.depth_conv.norm.weight', 'backbone.stages.1.op_list.0.main.depth_conv.norm.bias', 'backbone.stages.1.op_list.0.main.depth_conv.norm.running_mean', 'backbone.stages.1.op_list.0.main.depth_conv.norm.running_var', 'backbone.stages.1.op_list.0.main.depth_conv.norm.num_batches_tracked', 'backbone.stages.1.op_list.0.main.point_conv.conv.weight', 'backbone.stages.1.op_list.0.main.point_conv.norm.weight', 'backbone.stages.1.op_list.0.main.point_conv.norm.bias', 'backbone.stages.1.op_list.0.main.point_conv.norm.running_mean', 'backbone.stages.1.op_list.0.main.point_conv.norm.running_var', 'backbone.stages.1.op_list.0.main.point_conv.norm.num_batches_tracked', 'backbone.stages.1.op_list.1.main.inverted_conv.conv.weight', 'backbone.stages.1.op_list.1.main.inverted_conv.norm.weight', 'backbone.stages.1.op_list.1.main.inverted_conv.norm.bias', 'backbone.stages.1.op_list.1.main.inverted_conv.norm.running_mean', 'backbone.stages.1.op_list.1.main.inverted_conv.norm.running_var', 'backbone.stages.1.op_list.1.main.inverted_conv.norm.num_batches_tracked', 'backbone.stages.1.op_list.1.main.depth_conv.conv.weight', 'backbone.stages.1.op_list.1.main.depth_conv.norm.weight', 'backbone.stages.1.op_list.1.main.depth_conv.norm.bias', 'backbone.stages.1.op_list.1.main.depth_conv.norm.running_mean', 'backbone.stages.1.op_list.1.main.depth_conv.norm.running_var', 'backbone.stages.1.op_list.1.main.depth_conv.norm.num_batches_tracked', 'backbone.stages.1.op_list.1.main.point_conv.conv.weight', 'backbone.stages.1.op_list.1.main.point_conv.norm.weight', 'backbone.stages.1.op_list.1.main.point_conv.norm.bias', 'backbone.stages.1.op_list.1.main.point_conv.norm.running_mean', 'backbone.stages.1.op_list.1.main.point_conv.norm.running_var', 'backbone.stages.1.op_list.1.main.point_conv.norm.num_batches_tracked', 'backbone.stages.2.op_list.0.main.inverted_conv.conv.weight', 'backbone.stages.2.op_list.0.main.inverted_conv.conv.bias', 'backbone.stages.2.op_list.0.main.depth_conv.conv.weight', 'backbone.stages.2.op_list.0.main.depth_conv.conv.bias', 'backbone.stages.2.op_list.0.main.point_conv.conv.weight', 'backbone.stages.2.op_list.0.main.point_conv.norm.weight', 'backbone.stages.2.op_list.0.main.point_conv.norm.bias', 'backbone.stages.2.op_list.0.main.point_conv.norm.running_mean', 'backbone.stages.2.op_list.0.main.point_conv.norm.running_var', 'backbone.stages.2.op_list.0.main.point_conv.norm.num_batches_tracked', 'backbone.stages.2.op_list.1.context_module.main.qkv.conv.weight', 'backbone.stages.2.op_list.1.context_module.main.aggreg.0.0.weight', 'backbone.stages.2.op_list.1.context_module.main.aggreg.0.1.weight', 'backbone.stages.2.op_list.1.context_module.main.proj.conv.weight', 'backbone.stages.2.op_list.1.context_module.main.proj.norm.weight', 'backbone.stages.2.op_list.1.context_module.main.proj.norm.bias', 'backbone.stages.2.op_list.1.context_module.main.proj.norm.running_mean', 'backbone.stages.2.op_list.1.context_module.main.proj.norm.running_var', 'backbone.stages.2.op_list.1.context_module.main.proj.norm.num_batches_tracked', 'backbone.stages.2.op_list.1.local_module.main.inverted_conv.conv.weight', 'backbone.stages.2.op_list.1.local_module.main.inverted_conv.conv.bias', 'backbone.stages.2.op_list.1.local_module.main.depth_conv.conv.weight', 'backbone.stages.2.op_list.1.local_module.main.depth_conv.conv.bias', 'backbone.stages.2.op_list.1.local_module.main.point_conv.conv.weight', 'backbone.stages.2.op_list.1.local_module.main.point_conv.norm.weight', 'backbone.stages.2.op_list.1.local_module.main.point_conv.norm.bias', 'backbone.stages.2.op_list.1.local_module.main.point_conv.norm.running_mean', 'backbone.stages.2.op_list.1.local_module.main.point_conv.norm.running_var', 'backbone.stages.2.op_list.1.local_module.main.point_conv.norm.num_batches_tracked', 'backbone.stages.2.op_list.2.context_module.main.qkv.conv.weight', 'backbone.stages.2.op_list.2.context_module.main.aggreg.0.0.weight', 'backbone.stages.2.op_list.2.context_module.main.aggreg.0.1.weight', 'backbone.stages.2.op_list.2.context_module.main.proj.conv.weight', 'backbone.stages.2.op_list.2.context_module.main.proj.norm.weight', 'backbone.stages.2.op_list.2.context_module.main.proj.norm.bias', 'backbone.stages.2.op_list.2.context_module.main.proj.norm.running_mean', 'backbone.stages.2.op_list.2.context_module.main.proj.norm.running_var', 'backbone.stages.2.op_list.2.context_module.main.proj.norm.num_batches_tracked', 'backbone.stages.2.op_list.2.local_module.main.inverted_conv.conv.weight', 'backbone.stages.2.op_list.2.local_module.main.inverted_conv.conv.bias', 'backbone.stages.2.op_list.2.local_module.main.depth_conv.conv.weight', 'backbone.stages.2.op_list.2.local_module.main.depth_conv.conv.bias', 'backbone.stages.2.op_list.2.local_module.main.point_conv.conv.weight', 'backbone.stages.2.op_list.2.local_module.main.point_conv.norm.weight', 'backbone.stages.2.op_list.2.local_module.main.point_conv.norm.bias', 'backbone.stages.2.op_list.2.local_module.main.point_conv.norm.running_mean', 'backbone.stages.2.op_list.2.local_module.main.point_conv.norm.running_var', 'backbone.stages.2.op_list.2.local_module.main.point_conv.norm.num_batches_tracked', 'backbone.stages.3.op_list.0.main.inverted_conv.conv.weight', 'backbone.stages.3.op_list.0.main.inverted_conv.conv.bias', 'backbone.stages.3.op_list.0.main.depth_conv.conv.weight', 'backbone.stages.3.op_list.0.main.depth_conv.conv.bias', 'backbone.stages.3.op_list.0.main.point_conv.conv.weight', 'backbone.stages.3.op_list.0.main.point_conv.norm.weight', 'backbone.stages.3.op_list.0.main.point_conv.norm.bias', 'backbone.stages.3.op_list.0.main.point_conv.norm.running_mean', 'backbone.stages.3.op_list.0.main.point_conv.norm.running_var', 'backbone.stages.3.op_list.0.main.point_conv.norm.num_batches_tracked', 'backbone.stages.3.op_list.1.context_module.main.qkv.conv.weight', 'backbone.stages.3.op_list.1.context_module.main.aggreg.0.0.weight', 'backbone.stages.3.op_list.1.context_module.main.aggreg.0.1.weight', 'backbone.stages.3.op_list.1.context_module.main.proj.conv.weight', 'backbone.stages.3.op_list.1.context_module.main.proj.norm.weight', 'backbone.stages.3.op_list.1.context_module.main.proj.norm.bias', 'backbone.stages.3.op_list.1.context_module.main.proj.norm.running_mean', 'backbone.stages.3.op_list.1.context_module.main.proj.norm.running_var', 'backbone.stages.3.op_list.1.context_module.main.proj.norm.num_batches_tracked', 'backbone.stages.3.op_list.1.local_module.main.inverted_conv.conv.weight', 'backbone.stages.3.op_list.1.local_module.main.inverted_conv.conv.bias', 'backbone.stages.3.op_list.1.local_module.main.depth_conv.conv.weight', 'backbone.stages.3.op_list.1.local_module.main.depth_conv.conv.bias', 'backbone.stages.3.op_list.1.local_module.main.point_conv.conv.weight', 'backbone.stages.3.op_list.1.local_module.main.point_conv.norm.weight', 'backbone.stages.3.op_list.1.local_module.main.point_conv.norm.bias', 'backbone.stages.3.op_list.1.local_module.main.point_conv.norm.running_mean', 'backbone.stages.3.op_list.1.local_module.main.point_conv.norm.running_var', 'backbone.stages.3.op_list.1.local_module.main.point_conv.norm.num_batches_tracked', 'backbone.stages.3.op_list.2.context_module.main.qkv.conv.weight', 'backbone.stages.3.op_list.2.context_module.main.aggreg.0.0.weight', 'backbone.stages.3.op_list.2.context_module.main.aggreg.0.1.weight', 'backbone.stages.3.op_list.2.context_module.main.proj.conv.weight', 'backbone.stages.3.op_list.2.context_module.main.proj.norm.weight', 'backbone.stages.3.op_list.2.context_module.main.proj.norm.bias', 'backbone.stages.3.op_list.2.context_module.main.proj.norm.running_mean', 'backbone.stages.3.op_list.2.context_module.main.proj.norm.running_var', 'backbone.stages.3.op_list.2.context_module.main.proj.norm.num_batches_tracked', 'backbone.stages.3.op_list.2.local_module.main.inverted_conv.conv.weight', 'backbone.stages.3.op_list.2.local_module.main.inverted_conv.conv.bias', 'backbone.stages.3.op_list.2.local_module.main.depth_conv.conv.weight', 'backbone.stages.3.op_list.2.local_module.main.depth_conv.conv.bias', 'backbone.stages.3.op_list.2.local_module.main.point_conv.conv.weight', 'backbone.stages.3.op_list.2.local_module.main.point_conv.norm.weight', 'backbone.stages.3.op_list.2.local_module.main.point_conv.norm.bias', 'backbone.stages.3.op_list.2.local_module.main.point_conv.norm.running_mean', 'backbone.stages.3.op_list.2.local_module.main.point_conv.norm.running_var', 'backbone.stages.3.op_list.2.local_module.main.point_conv.norm.num_batches_tracked', 'head.input_ops.0.op_list.0.conv.weight', 'head.input_ops.0.op_list.0.norm.weight', 'head.input_ops.0.op_list.0.norm.bias', 'head.input_ops.0.op_list.0.norm.running_mean', 'head.input_ops.0.op_list.0.norm.running_var', 'head.input_ops.0.op_list.0.norm.num_batches_tracked', 'head.input_ops.1.op_list.0.conv.weight', 'head.input_ops.1.op_list.0.norm.weight', 'head.input_ops.1.op_list.0.norm.bias', 'head.input_ops.1.op_list.0.norm.running_mean', 'head.input_ops.1.op_list.0.norm.running_var', 'head.input_ops.1.op_list.0.norm.num_batches_tracked', 'head.input_ops.2.conv.weight', 'head.input_ops.2.norm.weight', 'head.input_ops.2.norm.bias', 'head.input_ops.2.norm.running_mean', 'head.input_ops.2.norm.running_var', 'head.input_ops.2.norm.num_batches_tracked', 'head.middle.op_list.0.main.inverted_conv.conv.weight', 'head.middle.op_list.0.main.inverted_conv.norm.weight', 'head.middle.op_list.0.main.inverted_conv.norm.bias', 'head.middle.op_list.0.main.inverted_conv.norm.running_mean', 'head.middle.op_list.0.main.inverted_conv.norm.running_var', 'head.middle.op_list.0.main.inverted_conv.norm.num_batches_tracked', 'head.middle.op_list.0.main.depth_conv.conv.weight', 'head.middle.op_list.0.main.depth_conv.norm.weight', 'head.middle.op_list.0.main.depth_conv.norm.bias', 'head.middle.op_list.0.main.depth_conv.norm.running_mean', 'head.middle.op_list.0.main.depth_conv.norm.running_var', 'head.middle.op_list.0.main.depth_conv.norm.num_batches_tracked', 'head.middle.op_list.0.main.point_conv.conv.weight', 'head.middle.op_list.0.main.point_conv.norm.weight', 'head.middle.op_list.0.main.point_conv.norm.bias', 'head.middle.op_list.0.main.point_conv.norm.running_mean', 'head.middle.op_list.0.main.point_conv.norm.running_var', 'head.middle.op_list.0.main.point_conv.norm.num_batches_tracked', 'head.output_ops.0.op_list.0.conv.weight', 'head.output_ops.0.op_list.0.norm.weight', 'head.output_ops.0.op_list.0.norm.bias', 'head.output_ops.0.op_list.0.norm.running_mean', 'head.output_ops.0.op_list.0.norm.running_var', 'head.output_ops.0.op_list.0.norm.num_batches_tracked', 'head.output_ops.0.op_list.1.conv.weight', 'head.output_ops.0.op_list.1.conv.bias'])\n"
     ]
    }
   ],
   "source": [
    "import torch\n",
    "\n",
    "# Load checkpoint\n",
    "checkpoint_original = torch.load(\"b0.pt\", map_location=\"cpu\")\n",
    "\n",
    "# Extract state_dict from the checkpoint\n",
    "state_dict = checkpoint_original['state_dict']\n",
    "\n",
    "# Print all keys in the state_dict to inspect their names\n",
    "print(\"Keys in the state_dict:\")\n",
    "print(state_dict.keys())\n"
   ]
  },
  {
   "cell_type": "code",
   "execution_count": 16,
   "id": "f8623ff4-8733-4545-a20b-81cdbf06a59c",
   "metadata": {
    "tags": []
   },
   "outputs": [
    {
     "name": "stdout",
     "output_type": "stream",
     "text": [
      "Weight shape is incorrect. Expected [4, 128, 1, 1] but found: torch.Size([19, 128, 1, 1])\n",
      "Bias shape is incorrect. Expected [4] but found: torch.Size([19])\n"
     ]
    }
   ],
   "source": [
    "import torch\n",
    "\n",
    "# Load checkpoint\n",
    "checkpoint_original = torch.load(\"b0.pt\", map_location=\"cpu\")\n",
    "\n",
    "# Extract state_dict from the checkpoint\n",
    "state_dict = checkpoint_original['state_dict']\n",
    "\n",
    "# Check the shape of 'head.output_ops.0.op_list.1.conv.weight'\n",
    "weight_shape = state_dict['head.output_ops.0.op_list.1.conv.weight'].shape\n",
    "bias_shape = state_dict['head.output_ops.0.op_list.1.conv.bias'].shape\n",
    "\n",
    "# Verify the shapes\n",
    "if weight_shape == torch.Size([4, 128, 1, 1]):\n",
    "    print(\"Weight shape is correct:\", weight_shape)\n",
    "else:\n",
    "    print(\"Weight shape is incorrect. Expected [4, 128, 1, 1] but found:\", weight_shape)\n",
    "\n",
    "if bias_shape == torch.Size([4]):\n",
    "    print(\"Bias shape is correct:\", bias_shape)\n",
    "else:\n",
    "    print(\"Bias shape is incorrect. Expected [4] but found:\", bias_shape)\n"
   ]
  },
  {
   "cell_type": "code",
   "execution_count": 17,
   "id": "ef5a603b-9d39-4ee3-8125-b264eb3eeb63",
   "metadata": {
    "tags": []
   },
   "outputs": [
    {
     "name": "stdout",
     "output_type": "stream",
     "text": [
      "Modified checkpoint saved as b0_modified.pt\n"
     ]
    }
   ],
   "source": [
    "import torch\n",
    "\n",
    "# Load checkpoint\n",
    "checkpoint_original = torch.load(\"b0.pt\", map_location=\"cpu\")\n",
    "\n",
    "# Extract state_dict from the checkpoint\n",
    "state_dict = checkpoint_original['state_dict']\n",
    "\n",
    "# Modify weight and bias shapes\n",
    "state_dict['head.output_ops.0.op_list.1.conv.weight'] = state_dict['head.output_ops.0.op_list.1.conv.weight'][:4]\n",
    "state_dict['head.output_ops.0.op_list.1.conv.bias'] = state_dict['head.output_ops.0.op_list.1.conv.bias'][:4]\n",
    "\n",
    "# Save modified checkpoint to a new file\n",
    "torch.save({\n",
    "    'state_dict': state_dict\n",
    "}, \"b0_modified.pt\")\n",
    "\n",
    "print(\"Modified checkpoint saved as b0_modified.pt\")\n"
   ]
  },
  {
   "cell_type": "code",
   "execution_count": null,
   "id": "183e4c02-6b6b-4a77-a1f0-c676c31e2332",
   "metadata": {},
   "outputs": [],
   "source": []
  }
 ],
 "metadata": {
  "kernelspec": {
   "display_name": "Python 3 (torch)",
   "language": "python",
   "name": "torch"
  },
  "language_info": {
   "codemirror_mode": {
    "name": "ipython",
    "version": 3
   },
   "file_extension": ".py",
   "mimetype": "text/x-python",
   "name": "python",
   "nbconvert_exporter": "python",
   "pygments_lexer": "ipython3",
   "version": "3.10.13"
  }
 },
 "nbformat": 4,
 "nbformat_minor": 5
}
